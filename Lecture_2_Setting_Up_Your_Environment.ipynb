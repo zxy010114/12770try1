{
 "cells": [
  {
   "cell_type": "markdown",
   "id": "6ee91770-bab3-47e2-81ae-66af25c950ee",
   "metadata": {},
   "source": [
    "# 12-770 Fall 2024: Lecture #2: Setting up your Development Environment\n",
    "\n",
    "Mario Bergés  \n",
    "January 18, 2024\n",
    "\n",
    "Here is **what** I intend to cover today:\n",
    "\n",
    "-   Basics of Python\n",
    "-   What is Interactive Python (IPython)?\n",
    "-   What are Jupyter Notebooks?\n",
    "-   What are version control systems, and what is Git?\n",
    "-   What is GitHub?\n",
    "-   How do I share code through a version control system like Git?\n",
    "\n",
    "At the end of this process, I would like for each of you to be able to\n",
    "create an Jupyter Notebook locally on your computer, and then be able to\n",
    "allow anyone else in the course (if pushing it to our course’s\n",
    "repository) or in the world (if pushing it to a public repository) to\n",
    "see it.\n",
    "\n",
    "This very same file we have on the screen now will make that journey.\n",
    "\n",
    "## Before you begin\n",
    "\n",
    "Things you’ll need to do ahead of time:\n",
    "\n",
    "1.  Create an account on [github.com](http://github.com)\n",
    "2.  Install the [Anaconda Python\n",
    "    distribution](https://www.anaconda.com/distribution/)\n",
    "3.  Install git on your computer, which you can get\n",
    "    [here](http://git-scm.com/)\n",
    "\n",
    "In addition to the references posted on the slide deck, here are some\n",
    "references that will be **very** helpful to ensure you understand what\n",
    "we are doing and how it all works:\n",
    "\n",
    "1.  Git References\n",
    "    -   What it is and what is it used for?\n",
    "        -   [Official Documentation](https://git-scm.com/documentation),\n",
    "            especially the first three videos on this page.\n",
    "        -   [Official Git\n",
    "            Tutorial](https://git-scm.com/docs/gittutorial), if you are\n",
    "            already familiar with the command line interface to some\n",
    "            other version control software and just need to get started.\n",
    "    -   How does it work?\n",
    "        -   [Visual, interactive\n",
    "            explanation](https://onlywei.github.io/explain-git-with-d3/):\n",
    "            this is really valuable if you want to wrap your head around\n",
    "            the basic of what’s happening under the hood.\n",
    "        -   [Git from the inside\n",
    "            out](https://codewords.recurse.com/issues/two/git-from-the-inside-out):\n",
    "            an in-depth discussion of how things really work under the\n",
    "            hood.\n",
    "2.  Python References\n",
    "    -   Why Python and how is it useful for for Scientific Computing?\n",
    "        -   First, a quick intro to [Python for Scientific\n",
    "            Computing](http://nbviewer.ipython.org/github/jrjohansson/scientific-python-lectures/blob/master/Lecture-0-Scientific-Computing-with-Python.ipynb)\n",
    "        -   Other cool sources:\n",
    "            -   [SciPy lecture notes](http://www.scipy-lectures.org/):\n",
    "                heavy focus on Python fundamentals.\n",
    "            -   [Quantitative Economics with\n",
    "                Python](http://lectures.quantecon.org/): the name says\n",
    "                it all.\n",
    "            -   Online Courses:\n",
    "                -   [Introduction to Scientifi\n",
    "                    Python](https://web.stanford.edu/class/cme193/)\n",
    "                    (Stanford)\n",
    "                -   [Practical Data\n",
    "                    Science](http://datasciencecourse.org/) (CMU)\n",
    "                -   [Computational Statistics in\n",
    "                    Python](http://people.duke.edu/~ccc14/sta-663/index.html)\n",
    "                    (Duke)\n",
    "    -   How to use Python?\n",
    "        -   Here’s [a\n",
    "            tutorial](http://nbviewer.ipython.org/github/jrjohansson/scientific-python-lectures/blob/master/Lecture-1-Introduction-to-Python-Programming.ipynb).\n",
    "        -   Two libraries that we are going to be making extensive use\n",
    "            of are numpy and matplotlib. The same person who wrote the\n",
    "            tutorial above has tutorials for\n",
    "            [numpy](http://nbviewer.ipython.org/github/jrjohansson/scientific-python-lectures/blob/master/Lecture-2-Numpy.ipynb)\n",
    "            and\n",
    "            [matplotlib](http://nbviewer.ipython.org/github/jrjohansson/scientific-python-lectures/blob/master/Lecture-4-Matplotlib.ipynb)\n",
    "\n",
    "OK. Let’s get you started.\n",
    "\n",
    "## Cloning the course’s git repository\n",
    "\n",
    "This file you are currently viewing is part of the course’s git\n",
    "repository, which you can find here:\n",
    "\n",
    "<https://git.inferlab.org/websites/12-770>\n",
    "\n",
    "You could either clone it using the command line interface to git, or a\n",
    "graphical user interface (whichever you installed on your computer if\n",
    "you chose to install git). From the command line, for instance, you\n",
    "would issue this command to clone it:\n",
    "\n",
    "    git clone https://git.inferlab.org/websites/12-770.git\n",
    "\n",
    "Make sure that you can clone the repository in your computer by issuing\n",
    "that command.\n",
    "\n",
    "If you are successful, you will be able to see a new folder called\n",
    "`12-770` inside the folder where you issued the command. A copy of this\n",
    "Jupyter Notebook file should be in there as well, under lectures/code\n",
    "and you can view it by opening an Jupyter Notebook Server as follows:\n",
    "\n",
    "    jupyter notebook\n",
    "\n",
    "Just make sure you issue this last command on the corresponding folder.\n",
    "\n",
    "# Creating and using your own repositories\n",
    "\n",
    "The steps we followed above were for cloning the course’s official\n",
    "repository. However, you will want to repeat these steps for any other\n",
    "repository you may be interested in working with, especially the ones\n",
    "that you end up creating under your Github account. Thus, let’s practice\n",
    "importing one of your repositories.\n",
    "\n",
    "Follow these steps:\n",
    "\n",
    "1.  Head over to github.com and log in using your credentials.\n",
    "2.  Create a new repository and name it whatever you like.\n",
    "3.  At the end of the process you will be given a checkout string. Copy\n",
    "    that.\n",
    "4.  Use the checkout string to replace the one we used earlier that\n",
    "    looked like this:\n",
    "    `git clone http://github.com/yourusername/yourrepository.git`\n",
    "5.  Try issuing that command on your computer (obviously, replacing\n",
    "    `yourusername` and `yourrepository` with the right information)\n",
    "6.  If all goes well, you’ll have your (empty) repository available for\n",
    "    use in your computer.\n",
    "\n",
    "Now it’s time for you to practice some of your recently learned git\n",
    "skills.\n",
    "\n",
    "Create a new Jupyter notebook, making sure to place it inside the folder\n",
    "of the repository you just cloned.\n",
    "\n",
    "Add a couple of Python commands to it, or some comments, and save it.\n",
    "\n",
    "Now go back to the terminal and add, commit and push the changes to your\n",
    "repository:\n",
    "\n",
    "    git add yourfile.ipynb\n",
    "    git commit -m \"Made my first commit\"\n",
    "    git push origin main \n",
    "\n",
    "If this worked, you should be able to see the file added to your\n",
    "repository by simply pointing your browser to:\n",
    "\n",
    "`http://github.com/yourusername/yourrepository`\n",
    "\n",
    "## Doing away with the terminal\n",
    "\n",
    "Because Jupyter can be used to issue commands to a shell, directly, you\n",
    "can avoid having to switch to a terminal screen if you want to. This\n",
    "means we could have performed all of the above git manipulation directly\n",
    "from this notebook. The trick is to create a *Code* cell (the default\n",
    "type of cells) in the Jupyter notebook and then issuing the commands\n",
    "preceded by a `!` sign, as follows:"
   ]
  },
  {
   "cell_type": "code",
   "execution_count": 1,
   "id": "a50ef5ee-5a12-43be-ae0f-4dc0853f799a",
   "metadata": {},
   "outputs": [
    {
     "name": "stdout",
     "output_type": "stream",
     "text": [
      "On branch main\n",
      "Your branch is up to date with 'origin/main'.\n",
      "\n",
      "Changes to be committed:\n",
      "  (use \"git restore --staged <file>...\" to unstage)\n",
      "    modified:   ../../environment-setup.qmd\n",
      "    new file:   ../12-770_Lecture_1_Introduction.pdf\n",
      "    new file:   Lecture_2_Setting_Up_Your_Environment.qmd\n",
      "    modified:   ../../schedule.qmd\n",
      "\n",
      "Changes not staged for commit:\n",
      "  (use \"git add <file>...\" to update what will be committed)\n",
      "  (use \"git restore <file>...\" to discard changes in working directory)\n",
      "    modified:   Lecture_2_Setting_Up_Your_Environment.ipynb\n",
      "    modified:   Lecture_2_Setting_Up_Your_Environment.qmd\n",
      "\n",
      "Untracked files:\n",
      "  (use \"git add <file>...\" to include in what will be committed)\n",
      "    ../../.DS_Store\n",
      "    ../../.vagrant/\n",
      "    ../../BERGES_2023_Spring_CEE_12770_ST _AUTO_SUST_BUILD_A.pdf\n",
      "    ../../PhotoRoster-S24-12770-A.pdf\n",
      "    ../../assignments/\n",
      "    ../.DS_Store\n",
      "    ../12-770_Lecture_10_ThermalNetworks_Notes.pdf\n",
      "    ../12-770_Lecture_11_ElectricPower_Notes.pdf\n",
      "    ../12-770_Lecture_2_EnvironmentSetUp.pdf\n",
      "    ../12-770_Lecture_3_DataAcquisition.pdf\n",
      "    ../12-770_Lecture_8_ThermalComfort_Notes.pdf\n",
      "    ../Lecture_1/\n",
      "    ../Lecture_10/\n",
      "    ../Lecture_11/\n",
      "    ../Lecture_12/\n",
      "    ../Lecture_13/\n",
      "    ../Lecture_14/\n",
      "    ../Lecture_15/\n",
      "    ../Lecture_18/\n",
      "    ../Lecture_19/\n",
      "    ../Lecture_2/\n",
      "    ../Lecture_20/\n",
      "    ../Lecture_3/\n",
      "    ../Lecture_5/\n",
      "    ../Lecture_6/\n",
      "    ../Lecture_7/\n",
      "    ../Lecture_8/\n",
      "    ../Lecture_9/\n",
      "    Lecture_16_Clustering.ipynb\n",
      "    Lecture_2_Setting_Up_Your_Environment.html\n",
      "    Lecture_2_Setting_Up_Your_Environment.pdf\n",
      "    ../../proposals/\n",
      "    ../../references/\n",
      "    ../../test.txt\n"
     ]
    }
   ],
   "source": [
    "!git status"
   ]
  },
  {
   "cell_type": "markdown",
   "id": "c38dc86d-58ec-4d37-93bb-c154dc3d4170",
   "metadata": {},
   "source": [
    "Try running the above cell and see what you get."
   ]
  },
  {
   "cell_type": "code",
   "execution_count": 2,
   "id": "8b7496c8-32d7-4081-847c-2e0391f8130c",
   "metadata": {},
   "outputs": [],
   "source": [
    "import numpy as np\n",
    "import matplotlib.pyplot as plt\n",
    "%matplotlib inline"
   ]
  },
  {
   "cell_type": "code",
   "execution_count": 3,
   "id": "1913a68c-2e8a-4341-a399-be0f4b840674",
   "metadata": {},
   "outputs": [],
   "source": [
    "x = list(range(0,10))"
   ]
  },
  {
   "cell_type": "code",
   "execution_count": 4,
   "id": "f43edf51-c2dc-4325-976a-a55e16d0c7bb",
   "metadata": {},
   "outputs": [
    {
     "data": {
      "text/plain": [
       "[0, 1, 2, 3, 4, 5, 6, 7, 8, 9]"
      ]
     },
     "metadata": {},
     "output_type": "display_data"
    }
   ],
   "source": [
    "x"
   ]
  },
  {
   "cell_type": "code",
   "execution_count": 5,
   "id": "5bb5d27e-b22c-43ae-89c7-3fe535258a61",
   "metadata": {},
   "outputs": [],
   "source": [
    "y=np.sin(x)"
   ]
  },
  {
   "cell_type": "code",
   "execution_count": 6,
   "id": "bcc6b4db-ae4a-4c1b-9d90-16f7fc827560",
   "metadata": {},
   "outputs": [
    {
     "data": {
      "text/plain": [
       "array([ 0.        ,  0.84147098,  0.90929743,  0.14112001, -0.7568025 ,\n",
       "       -0.95892427, -0.2794155 ,  0.6569866 ,  0.98935825,  0.41211849])"
      ]
     },
     "metadata": {},
     "output_type": "display_data"
    }
   ],
   "source": [
    "y"
   ]
  },
  {
   "cell_type": "code",
   "execution_count": 7,
   "id": "13ff1b1d-4383-407e-96e2-219774144b22",
   "metadata": {},
   "outputs": [
    {
     "data": {
      "image/png": "[encoded data removed]"
     },
     "metadata": {},
     "output_type": "display_data"
    }
   ],
   "source": [
    "plt.plot(x,y)"
   ]
  }
 ],
 "metadata": {
  "kernelspec": {
   "display_name": "Python 3 (ipykernel)",
   "language": "python",
   "name": "python3"
  },
  "language_info": {
   "codemirror_mode": {
    "name": "ipython",
    "version": 3
   },
   "file_extension": ".py",
   "mimetype": "text/x-python",
   "name": "python",
   "nbconvert_exporter": "python",
   "pygments_lexer": "ipython3",
   "version": "3.11.5"
  }
 },
 "nbformat": 4,
 "nbformat_minor": 5
}
